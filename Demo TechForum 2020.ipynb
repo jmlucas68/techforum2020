{
  "nbformat": 4,
  "nbformat_minor": 0,
  "metadata": {
    "colab": {
      "name": "Demo TechForum 2020.ipynb",
      "provenance": [],
      "private_outputs": true,
      "collapsed_sections": [],
      "toc_visible": true
    },
    "kernelspec": {
      "display_name": "Python 3",
      "name": "python3"
    }
  },
  "cells": [
    {
      "cell_type": "markdown",
      "metadata": {
        "colab_type": "text",
        "id": "YHI3vyhv5p85"
      },
      "source": [
        "# Demo TechForum Barcelona 2020\n",
        "\n"
      ]
    },
    {
      "cell_type": "markdown",
      "metadata": {
        "id": "5yz1TuV3li2D",
        "colab_type": "text"
      },
      "source": [
        "\n",
        "# Program\n",
        "\n"
      ]
    },
    {
      "cell_type": "markdown",
      "metadata": {
        "colab_type": "text",
        "id": "F8YVA_634OFk"
      },
      "source": [
        "The problem of the demo is going to be to solve the conversion of degrees Celsius to degrees Fahrenheit whose formula is:\n",
        "\n",
        "$$ f = c \\times 1.8 + 32 $$\n",
        "\n",
        "\n",
        "Obviously to solve this problem it is not necessary or even the best to use Deep Learning, it is just an example to show a development environment in Deep Learning.\n",
        "\n",
        "Instead of programming a function that solves this conversion, we are going to give TensorFlow some examples of Celsius values (0, 8, 15, 22, 38) and their corresponding Fahrenheit (32, 46, 59, 72, 100) and then we go to train a model to solve the conversion of other values.\n"
      ]
    },
    {
      "cell_type": "markdown",
      "metadata": {
        "colab_type": "text",
        "id": "fA93WUy1zzWf"
      },
      "source": [
        "## Dependencies\n",
        "\n",
        "The TensorFlow library is imported, and the Numpy library that allows the representation of numbers as lists.\n",
        "\n"
      ]
    },
    {
      "cell_type": "code",
      "metadata": {
        "colab_type": "code",
        "id": "X9uIpOS2zx7k",
        "colab": {}
      },
      "source": [
        "from __future__ import absolute_import, division, print_function, unicode_literals\n",
        "import tensorflow as tf\n",
        "\n",
        "import numpy as np"
      ],
      "execution_count": 0,
      "outputs": []
    },
    {
      "cell_type": "code",
      "metadata": {
        "colab_type": "code",
        "id": "y_WQEM5MGmg3",
        "colab": {}
      },
      "source": [
        "import logging \n",
        "logger = tf.get_logger()\n",
        "logger.setLevel(logging.ERROR)"
      ],
      "execution_count": 0,
      "outputs": []
    },
    {
      "cell_type": "markdown",
      "metadata": {
        "colab_type": "text",
        "id": "AC3EQFi20buB"
      },
      "source": [
        "## Set up training data\n",
        "\n",
        "We create two lists, one with the input values (values of degrees Celsius) and one with the corresponding output values (values of degrees Fahrenheit). These two lists will serve to train the model.\n"
      ]
    },
    {
      "cell_type": "code",
      "metadata": {
        "colab_type": "code",
        "id": "gg4pn6aI1vms",
        "colab": {}
      },
      "source": [
        "celsius_q    = np.array([-40, -10,  0,  8, 15, 22,  38],  dtype=float)\n",
        "fahrenheit_a = np.array([-40,  14, 32, 46, 59, 72, 100],  dtype=float)\n",
        "\n",
        "for i,c in enumerate(celsius_q):\n",
        "  print(\"{} degrees Celsius = {} degrees Fahrenheit\".format(c, fahrenheit_a[i]))"
      ],
      "execution_count": 0,
      "outputs": []
    },
    {
      "cell_type": "markdown",
      "metadata": {
        "colab_type": "text",
        "id": "VM7_9Klvq7MO"
      },
      "source": [
        "## Create the model\n",
        "\n",
        "We are going to use the simplest model that exists, a single layer with a single neuron.\n",
        "\n",
        "\n",
        "### Build a layer\n",
        "\n",
        "We'll call the layer `l0` and create it by instantiating `tf.keras.layers.Dense` with the following configuration:\n",
        "\n",
        "*   `input_shape=[1]` — This specifies the single model has an input value.\n",
        "\n",
        "*   `units=1` — This specifies that the layer has only one neuron.\n",
        "\n",
        "*   `activation=None` — This specifies that the layer has not activation function. Others activation functions are: linear, relu, sigmoid, etc.\n",
        "\n"
      ]
    },
    {
      "cell_type": "code",
      "metadata": {
        "colab_type": "code",
        "id": "pRllo2HLfXiu",
        "colab": {}
      },
      "source": [
        "l0 = tf.keras.layers.Dense(units=1, input_shape=[1], activation=\"linear\")"
      ],
      "execution_count": 0,
      "outputs": []
    },
    {
      "cell_type": "markdown",
      "metadata": {
        "colab_type": "text",
        "id": "_F00_J9duLBD"
      },
      "source": [
        "### Assemble layers into de model\n",
        "\n",
        "Once the layers are defined, all of them are assembled in the model. In our case it only has one layer."
      ]
    },
    {
      "cell_type": "code",
      "metadata": {
        "colab_type": "code",
        "id": "cSp-GpLSuMRq",
        "colab": {}
      },
      "source": [
        "model = tf.keras.Sequential([l0])"
      ],
      "execution_count": 0,
      "outputs": []
    },
    {
      "cell_type": "markdown",
      "metadata": {
        "colab_type": "text",
        "id": "kiZG7uhm8qCF"
      },
      "source": [
        "## Compile the model\n",
        "\n",
        "The model is compiled and the following options are specified:\n",
        "\n",
        "- ** Loss function ** - It is the way the model error is measured.\n",
        "\n",
        "- ** Optimizer function ** - This is the way in which the internal parameters are adjusted to try to reduce the error."
      ]
    },
    {
      "cell_type": "code",
      "metadata": {
        "colab_type": "code",
        "id": "m8YQN1H41L-Y",
        "colab": {}
      },
      "source": [
        "model.compile(loss='mean_squared_error',\n",
        "              optimizer=tf.keras.optimizers.Adam(0.1))"
      ],
      "execution_count": 0,
      "outputs": []
    },
    {
      "cell_type": "markdown",
      "metadata": {
        "colab_type": "text",
        "id": "c-Jk4dG91dvD"
      },
      "source": [
        "## Train the model\n",
        "\n",
        "We train the model with the 'fit' method, what it does is train the model with a fixed number of iterations given in the 'epochs' parameter.\n"
      ]
    },
    {
      "cell_type": "code",
      "metadata": {
        "colab_type": "code",
        "id": "lpRrl7WK10Pq",
        "colab": {}
      },
      "source": [
        "history = model.fit(celsius_q, fahrenheit_a, epochs=500, verbose=False)\n",
        "print(\"Entranamiento finalizado\")"
      ],
      "execution_count": 0,
      "outputs": []
    },
    {
      "cell_type": "markdown",
      "metadata": {
        "colab_type": "text",
        "id": "0-QsNCLD4MJZ"
      },
      "source": [
        "## Display training statistics\n",
        "\n",
        "The 'fit' method returns an object that we can use to generate a graph of how the training went.\n",
        "\n",
        "The Matplotlib library that generates the chart is imported.\n"
      ]
    },
    {
      "cell_type": "code",
      "metadata": {
        "colab_type": "code",
        "id": "IeK6BzfbdO6_",
        "colab": {}
      },
      "source": [
        "import matplotlib.pyplot as plt\n",
        "plt.xlabel('Epoch Number')\n",
        "plt.ylabel(\"Loss Magnitude\")\n",
        "plt.plot(history.history['loss'])"
      ],
      "execution_count": 0,
      "outputs": []
    },
    {
      "cell_type": "markdown",
      "metadata": {
        "colab_type": "text",
        "id": "LtQGDMob5LOD"
      },
      "source": [
        "## Use the model to predect values\n",
        "\n",
        "We will use the model to predict the value of Fahrenheit degrees from a new case of Celsius degrees."
      ]
    },
    {
      "cell_type": "code",
      "metadata": {
        "colab_type": "code",
        "id": "oxNzL4lS2Gui",
        "colab": {}
      },
      "source": [
        "print(model.predict([100.0]))"
      ],
      "execution_count": 0,
      "outputs": []
    },
    {
      "cell_type": "markdown",
      "metadata": {
        "colab_type": "text",
        "id": "jApk6tZ1fBg1"
      },
      "source": [
        "The correc answer is $100 \\times 1.8 + 32 = 212$, so our model is doing really well.\n",
        "\n",
        "\n"
      ]
    },
    {
      "cell_type": "markdown",
      "metadata": {
        "colab_type": "text",
        "id": "zRrOky5gm20Z"
      },
      "source": [
        "## Looking al then layer weights\n",
        "\n",
        "We will get what are the weights that the model training has obtained."
      ]
    },
    {
      "cell_type": "code",
      "metadata": {
        "colab_type": "code",
        "id": "kmIkVdkbnZJI",
        "colab": {}
      },
      "source": [
        "print(\"This are the layers variables: {}\".format(l0.get_weights()))"
      ],
      "execution_count": 0,
      "outputs": []
    },
    {
      "cell_type": "markdown",
      "metadata": {
        "colab_type": "text",
        "id": "RSplSnMvnWC-"
      },
      "source": [
        "The values are very close to ~ 1.8 and ~ 32, which are the values of the Celsius degrees to Fahrenheit conversion lines function.\n",
        "\n"
      ]
    },
    {
      "cell_type": "markdown",
      "metadata": {
        "id": "qKS-s0-rJk2Y",
        "colab_type": "text"
      },
      "source": [
        "## New model\n",
        "\n",
        "Finally, we will solve the problem again with another neuronal model.\n"
      ]
    },
    {
      "cell_type": "code",
      "metadata": {
        "colab_type": "code",
        "id": "Y2zTA-rDS5Xk",
        "colab": {}
      },
      "source": [
        "l0 = tf.keras.layers.Dense(units=4, input_shape=[1])\n",
        "l1 = tf.keras.layers.Dense(units=4)\n",
        "l2 = tf.keras.layers.Dense(units=1)\n",
        "model2 = tf.keras.Sequential([l0, l1, l2])\n",
        "model2.compile(loss='mean_squared_error', optimizer=tf.keras.optimizers.Adam(0.1))\n",
        "model2.fit(celsius_q, fahrenheit_a, epochs=500, verbose=False)\n",
        "print(\"Finished training the model\")\n",
        "print(model2.predict([100.0]))\n",
        "print(\"Model predicts that 100 degrees Celsius is: {} degrees Fahrenheit\".format(model2.predict([100.0])))\n",
        "print(\"These are the l0 variables: {}\".format(l0.get_weights()))\n",
        "print(\"These are the l1 variables: {}\".format(l1.get_weights()))\n",
        "print(\"These are the l2 variables: {}\".format(l2.get_weights()))"
      ],
      "execution_count": 0,
      "outputs": []
    }
  ]
}