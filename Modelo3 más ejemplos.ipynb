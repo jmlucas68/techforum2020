{
  "nbformat": 4,
  "nbformat_minor": 0,
  "metadata": {
    "colab": {
      "name": "Modelo3.ipynb",
      "provenance": [],
      "include_colab_link": true
    },
    "kernelspec": {
      "name": "python2",
      "display_name": "Python 2"
    }
  },
  "cells": [
    {
      "cell_type": "markdown",
      "metadata": {
        "id": "view-in-github",
        "colab_type": "text"
      },
      "source": [
        "<a href=\"https://colab.research.google.com/github/jmlucas68/techforum2020/blob/master/Modelo3%20m%C3%A1s%20ejemplos.ipynb\" target=\"_parent\"><img src=\"https://colab.research.google.com/assets/colab-badge.svg\" alt=\"Open In Colab\"/></a>"
      ]
    },
    {
      "cell_type": "code",
      "metadata": {
        "id": "-11KATyhoFXB",
        "colab_type": "code",
        "colab": {}
      },
      "source": [
        "from __future__ import absolute_import, division, print_function, unicode_literals\n",
        "import tensorflow as tf\n",
        "\n",
        "import numpy as np\n",
        "\n",
        "import logging \n",
        "logger = tf.get_logger()\n",
        "logger.setLevel(logging.ERROR)\n",
        "\n",
        "celsius_q    = np.array([-40, -10,  0,  8, 15, 22,  38, 50, 72, 158, 235, 358],  dtype=float)\n",
        "fahrenheit_a = np.array([-40,  14, 32, 46, 59, 72, 100, 122, 162, 316, 455, 676],  dtype=float)\n",
        "l0 = tf.keras.layers.Dense(units=4, input_shape=[1])\n",
        "model3 = tf.keras.Sequential([l0])\n",
        "model3.compile(loss='mean_squared_error', optimizer=tf.keras.optimizers.Adam(0.1))\n",
        "model3.fit(celsius_q, fahrenheit_a, epochs=100, verbose=False)\n",
        "print(\"Finished training the model\")\n",
        "print(model3.predict([100.0]))\n",
        "print(\"Model predicts that 100 degrees Celsius is: {} degrees Fahrenheit\".format(model2.predict([100.0])))\n",
        "print(\"These are the l0 variables: {}\".format(l0.get_weights()))\n",
        "model3.summary()"
      ],
      "execution_count": 0,
      "outputs": []
    }
  ]
}